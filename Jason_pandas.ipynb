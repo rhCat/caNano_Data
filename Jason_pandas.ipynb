{
 "cells": [
  {
   "cell_type": "markdown",
   "id": "657edd16-0be4-4091-9066-049cdd3a101d",
   "metadata": {
    "tags": []
   },
   "source": [
    "# Extract data from caNano exported json file\n",
    "Rui He, 5/19/2022\n",
    "\n",
    "for my dear Weina Miao Miao"
   ]
  },
  {
   "cell_type": "code",
   "execution_count": 1,
   "id": "aed34195",
   "metadata": {
    "tags": []
   },
   "outputs": [],
   "source": [
    "import json\n",
    "import os\n",
    "import csv\n",
    "\n",
    "data_path=os.path.abspath(\"imaging_function.json\")\n",
    "output_path=os.path.abspath(\"imaging_Function_extract.csv\")\n",
    "data={}"
   ]
  },
  {
   "cell_type": "code",
   "execution_count": null,
   "id": "8dcf9005",
   "metadata": {},
   "outputs": [],
   "source": [
    "with open(data_path, 'r',errors='ignore') as file:\n",
    "    data_temp = file.read()\n",
    "    data = json.loads(data_temp)\n"
   ]
  },
  {
   "cell_type": "code",
   "execution_count": null,
   "id": "9b294ffe-4473-46cc-8c11-57613b37f25b",
   "metadata": {},
   "outputs": [],
   "source": [
    "def check_key_exist(dictionary, key):     \n",
    "    if dictionary.get(key) is not None:\n",
    "        return True\n",
    "    else:\n",
    "        return False"
   ]
  },
  {
   "cell_type": "code",
   "execution_count": null,
   "id": "ed85eb20-5176-42c1-be52-8f5050a056df",
   "metadata": {},
   "outputs": [],
   "source": [
    "def Check_and_extract(dictionary,key,palceholder):\n",
    "    if dictionary.get(key) is not None:\n",
    "        targetvar=dictionary[key]\n",
    "    else:\n",
    "        targetvar=palceholder\n",
    "    return targetvar\n",
    "        "
   ]
  },
  {
   "cell_type": "code",
   "execution_count": null,
   "id": "4bcac72f-9383-4d87-b0be-2f0ba6902c46",
   "metadata": {},
   "outputs": [],
   "source": [
    "headers=['samplename','nameid','function entity','property name', \\\n",
    "        'property type','function type','function description','full description']\n",
    "output_table=[]"
   ]
  },
  {
   "cell_type": "code",
   "execution_count": null,
   "id": "555410b2",
   "metadata": {
    "tags": []
   },
   "outputs": [
    {
     "ename": "KeyError",
     "evalue": "'Desc'",
     "output_type": "error",
     "traceback": [
      "\u001b[1;31m---------------------------------------------------------------------------\u001b[0m",
      "\u001b[1;31mKeyError\u001b[0m                                  Traceback (most recent call last)",
      "Input \u001b[1;32mIn [8]\u001b[0m, in \u001b[0;36m<cell line: 2>\u001b[1;34m()\u001b[0m\n\u001b[0;32m     16\u001b[0m \u001b[38;5;28;01mfor\u001b[39;00m subitem \u001b[38;5;129;01min\u001b[39;00m funcEntity[item]:\n\u001b[0;32m     17\u001b[0m     prop_name\u001b[38;5;241m=\u001b[39msubitem[\u001b[38;5;124m'\u001b[39m\u001b[38;5;124mName\u001b[39m\u001b[38;5;124m'\u001b[39m]                \n\u001b[1;32m---> 18\u001b[0m     full_des\u001b[38;5;241m=\u001b[39m\u001b[43msubitem\u001b[49m\u001b[43m[\u001b[49m\u001b[38;5;124;43m'\u001b[39;49m\u001b[38;5;124;43mDesc\u001b[39;49m\u001b[38;5;124;43m'\u001b[39;49m\u001b[43m]\u001b[49m\n\u001b[0;32m     20\u001b[0m     \u001b[38;5;28;01mif\u001b[39;00m check_key_exist(subitem,\u001b[38;5;124m'\u001b[39m\u001b[38;5;124mProperties\u001b[39m\u001b[38;5;124m'\u001b[39m):\n\u001b[0;32m     21\u001b[0m         \u001b[38;5;28;01mif\u001b[39;00m \u001b[38;5;28mlen\u001b[39m(subitem[\u001b[38;5;124m'\u001b[39m\u001b[38;5;124mProperties\u001b[39m\u001b[38;5;124m'\u001b[39m])\u001b[38;5;241m==\u001b[39m\u001b[38;5;241m0\u001b[39m:\n",
      "\u001b[1;31mKeyError\u001b[0m: 'Desc'"
     ]
    }
   ],
   "source": [
    "counter=1\n",
    "for item in data:\n",
    "    \n",
    "\n",
    "    sampleId=item['sample']['GeneralInfo']['sampleId']\n",
    "        \n",
    "    sampleName=item['sample']['GeneralInfo']['sampleName']\n",
    "\n",
    "    funcEntity=item['sample']['Composition']['functionalizingentity']\n",
    "    \n",
    "    # if sampleId==11337728:\n",
    "    #     print(counter)\n",
    "    #     break\n",
    "    if len(funcEntity)!=0:\n",
    "        for item in funcEntity:\n",
    "            for subitem in funcEntity[item]:\n",
    "                prop_name=subitem['Name']                \n",
    "                full_des=subitem['Desc']\n",
    "                \n",
    "                if check_key_exist(subitem,'Properties'):\n",
    "                    if len(subitem['Properties'])==0:\n",
    "                        prop_type='NaN'\n",
    "                    else: \n",
    "                        prop_type=Check_and_extract(subitem['Properties'], 'type','NaN')\n",
    "                else:\n",
    "                    prop_type='NaN'\n",
    "                \n",
    "                \n",
    "                if check_key_exist(subitem,'Functions'):\n",
    "                    if len(subitem['Functions'])==0:\n",
    "                        func_type='NaN'\n",
    "                        func_des='NaN'\n",
    "                    else:\n",
    "                        for fuc_item in subitem['Functions']:\n",
    "                            func_type=fuc_item['Type']                        \n",
    "                            func_des=Check_and_extract(fuc_item, 'FunctionDescription','NaN')   \n",
    "                            \n",
    "                            to_write=[sampleName,sampleId,item,prop_name,prop_type,func_type,func_des,full_des]\n",
    "                            if len(output_table)>0:\n",
    "                                if output_table[-1]!=to_write:\n",
    "                                    output_table.append(to_write) \n",
    "                            else:\n",
    "                                output_table.append(to_write)\n",
    "                            \n",
    "                else:\n",
    "                    func_type='NaN'\n",
    "                    func_des='NaN'\n",
    "                    to_write=[sampleName,sampleId,item,prop_name,prop_type,func_type,func_des,full_des]\n",
    "                    if len(output_table)>0:\n",
    "                        if output_table[-1]!=to_write:\n",
    "                            output_table.append(to_write)\n",
    "                    else:\n",
    "                        output_table.append(to_write)\n",
    "                \n",
    "    else:\n",
    "        to_write=[sampleName,sampleId,'NaN','NaN','NaN','NaN','NaN','NaN']\n",
    "        if len(output_table)>0:\n",
    "            if output_table[-1]!=to_write:\n",
    "                output_table.append(to_write)\n",
    "        else:\n",
    "            output_table.append(to_write)\n",
    "    counter+=1\n",
    "\n",
    "                \n"
   ]
  },
  {
   "cell_type": "code",
   "execution_count": null,
   "id": "0f5bba1f-777e-4ca7-8f69-2386b88a3e29",
   "metadata": {},
   "outputs": [],
   "source": [
    "# output_table[10]"
   ]
  },
  {
   "cell_type": "code",
   "execution_count": null,
   "id": "3cd96049-9f89-42fb-aa06-a4e223549624",
   "metadata": {},
   "outputs": [],
   "source": [
    "for item in output_table:\n",
    "    tracer='UNC-HKangPR2005-05'\n",
    "    if tracer in item:\n",
    "        print(item)"
   ]
  },
  {
   "cell_type": "code",
   "execution_count": null,
   "id": "a11f28af-9880-4a35-ad60-3f369574bb83",
   "metadata": {},
   "outputs": [],
   "source": [
    "with open(output_path, 'w',newline=\"\") as output:\n",
    "    writer = csv.DictWriter(output, fieldnames = headers)\n",
    "    writer.writeheader()\n",
    "    writer = csv.writer(output)\n",
    "    writer.writerows(output_table)"
   ]
  },
  {
   "cell_type": "code",
   "execution_count": null,
   "id": "c9be21a4-a9c9-47b5-9bf8-6bf6563ebad4",
   "metadata": {},
   "outputs": [],
   "source": []
  }
 ],
 "metadata": {
  "kernelspec": {
   "display_name": "Python 3 (ipykernel)",
   "language": "python",
   "name": "python3"
  },
  "language_info": {
   "codemirror_mode": {
    "name": "ipython",
    "version": 3
   },
   "file_extension": ".py",
   "mimetype": "text/x-python",
   "name": "python",
   "nbconvert_exporter": "python",
   "pygments_lexer": "ipython3",
   "version": "3.9.12"
  }
 },
 "nbformat": 4,
 "nbformat_minor": 5
}
