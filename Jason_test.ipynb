{
 "cells": [
  {
   "cell_type": "markdown",
   "id": "657edd16-0be4-4091-9066-049cdd3a101d",
   "metadata": {
    "tags": []
   },
   "source": [
    "# Extract data from caNano exported json file\n",
    "Rui He, 5/19/2022\n",
    "\n",
    "for my dear Weina Miao Miao"
   ]
  },
  {
   "cell_type": "code",
   "execution_count": 1,
   "id": "c456ca01-e4e5-4c70-ae99-722e3b9d97b1",
   "metadata": {},
   "outputs": [],
   "source": [
    "# !pip install pandas==1.4.2"
   ]
  },
  {
   "cell_type": "code",
   "execution_count": 2,
   "id": "aed34195",
   "metadata": {
    "tags": []
   },
   "outputs": [],
   "source": [
    "import json\n",
    "import os\n",
    "import csv\n",
    "import pandas as pd\n",
    "import numpy as np\n",
    "import re"
   ]
  },
  {
   "cell_type": "code",
   "execution_count": 3,
   "id": "b75355e1-9e69-49f0-8024-dc004c9a3e5f",
   "metadata": {},
   "outputs": [
    {
     "data": {
      "text/html": [
       "<div>\n",
       "<style scoped>\n",
       "    .dataframe tbody tr th:only-of-type {\n",
       "        vertical-align: middle;\n",
       "    }\n",
       "\n",
       "    .dataframe tbody tr th {\n",
       "        vertical-align: top;\n",
       "    }\n",
       "\n",
       "    .dataframe thead th {\n",
       "        text-align: right;\n",
       "    }\n",
       "</style>\n",
       "<table border=\"1\" class=\"dataframe\">\n",
       "  <thead>\n",
       "    <tr style=\"text-align: right;\">\n",
       "      <th></th>\n",
       "      <th>sample</th>\n",
       "    </tr>\n",
       "  </thead>\n",
       "  <tbody>\n",
       "    <tr>\n",
       "      <th>0</th>\n",
       "      <td>{'GeneralInfo': {'sampleId': 109969408, 'sampl...</td>\n",
       "    </tr>\n",
       "    <tr>\n",
       "      <th>1</th>\n",
       "      <td>{'GeneralInfo': {'sampleId': 96075802, 'sample...</td>\n",
       "    </tr>\n",
       "    <tr>\n",
       "      <th>2</th>\n",
       "      <td>{'GeneralInfo': {'sampleId': 96075785, 'sample...</td>\n",
       "    </tr>\n",
       "    <tr>\n",
       "      <th>3</th>\n",
       "      <td>{'GeneralInfo': {'sampleId': 96075784, 'sample...</td>\n",
       "    </tr>\n",
       "    <tr>\n",
       "      <th>4</th>\n",
       "      <td>{'GeneralInfo': {'sampleId': 96075783, 'sample...</td>\n",
       "    </tr>\n",
       "  </tbody>\n",
       "</table>\n",
       "</div>"
      ],
      "text/plain": [
       "                                              sample\n",
       "0  {'GeneralInfo': {'sampleId': 109969408, 'sampl...\n",
       "1  {'GeneralInfo': {'sampleId': 96075802, 'sample...\n",
       "2  {'GeneralInfo': {'sampleId': 96075785, 'sample...\n",
       "3  {'GeneralInfo': {'sampleId': 96075784, 'sample...\n",
       "4  {'GeneralInfo': {'sampleId': 96075783, 'sample..."
      ]
     },
     "execution_count": 3,
     "metadata": {},
     "output_type": "execute_result"
    }
   ],
   "source": [
    "data_path=os.path.abspath(\"imaging_function.json\")\n",
    "output_path=os.path.abspath(\"imaging_Function_extract.csv\")\n",
    "data_main = pd.read_json(data_path)\n",
    "\n",
    "data_main.head()"
   ]
  },
  {
   "cell_type": "code",
   "execution_count": 4,
   "id": "78819ef3-43e5-4199-bfc6-2337d360d577",
   "metadata": {},
   "outputs": [],
   "source": [
    "# Inspect data\n",
    "# data_main.loc[0][0]"
   ]
  },
  {
   "cell_type": "code",
   "execution_count": 5,
   "id": "cbe58313-f6b8-4e45-ae7e-bfa4e7b931b3",
   "metadata": {},
   "outputs": [
    {
     "name": "stdout",
     "output_type": "stream",
     "text": [
      "639\n"
     ]
    }
   ],
   "source": [
    "# Get data size\n",
    "data_length=data_main.size\n",
    "print(data_length)"
   ]
  },
  {
   "cell_type": "code",
   "execution_count": 6,
   "id": "9b294ffe-4473-46cc-8c11-57613b37f25b",
   "metadata": {},
   "outputs": [],
   "source": [
    "def check_key_exist(data_frame, key):     \n",
    "    if key in list(data_frame.keys()):\n",
    "        return True\n",
    "    else:\n",
    "        return False"
   ]
  },
  {
   "cell_type": "code",
   "execution_count": 7,
   "id": "ed85eb20-5176-42c1-be52-8f5050a056df",
   "metadata": {},
   "outputs": [],
   "source": [
    "def Check_and_extract(data_frame,key,palceholder):\n",
    "    if key in list(data_frame.keys()):\n",
    "        targetvar=data_frame[key]\n",
    "    else:\n",
    "        targetvar=palceholder\n",
    "    return targetvar\n",
    "        "
   ]
  },
  {
   "cell_type": "code",
   "execution_count": 8,
   "id": "4bcac72f-9383-4d87-b0be-2f0ba6902c46",
   "metadata": {},
   "outputs": [],
   "source": [
    "headers=['samplename','nameid','function entity','property name', \\\n",
    "        'property type','function type','function description',\\\n",
    "         'full description','abstract','link']\n",
    "output_table=[]"
   ]
  },
  {
   "cell_type": "code",
   "execution_count": 10,
   "id": "11b5ff28-d8cf-41bc-bad5-06f071f2655a",
   "metadata": {},
   "outputs": [],
   "source": [
    "# # data_main.loc[0][0]['Composition']['functionalizingentity']['Fluorophore'][0]['Desc']\n",
    "# data_direct=data_main.loc[39][0]['Publication']['category2Publications']\n",
    "# keystr=list(data_direct.keys())[0]\n",
    "# citation=data_direct[keystr][0]['displayName']\n",
    "# link=re.search('href=(.*)PMID', citation)\n",
    "# print(citation)\n",
    "# print(link.group(1))"
   ]
  },
  {
   "cell_type": "code",
   "execution_count": 11,
   "id": "555410b2",
   "metadata": {
    "tags": []
   },
   "outputs": [],
   "source": [
    "counter=1\n",
    "try:\n",
    "    for i in range(0,data_length,1):\n",
    "        item=data_main.loc[i][0]\n",
    "\n",
    "        sampleId=item['GeneralInfo']['sampleId']\n",
    "\n",
    "        sampleName=item['GeneralInfo']['sampleName']\n",
    "\n",
    "        funcEntity=item['Composition']['functionalizingentity']\n",
    "\n",
    "        publication=item['Publication']\n",
    "        if len(publication)>0:     \n",
    "            if 'category2Publications' in list(publication.keys()):\n",
    "                data_direct=publication['category2Publications']\n",
    "                keystr_list=list(data_direct.keys())\n",
    "                if len(keystr_list)>0:\n",
    "                    ab_entry=data_direct[keystr_list[0]][0]\n",
    "                    if 'description' in list(ab_entry.keys()):\n",
    "                        abstract=ab_entry['description']\n",
    "                    else:\n",
    "                        abstract='NaN'\n",
    "\n",
    "                    if 'displayName' in list(ab_entry.keys()):\n",
    "                        citation=ab_entry['displayName']\n",
    "                        link_find=re.search('href=(.*)>PMID', citation)\n",
    "                        if link_find is None:\n",
    "                            link_find=re.search('href=(.*)>DOI', citation)\n",
    "                            if link_find is None:\n",
    "                                link_find=re.search('href=(.*) target', citation)\n",
    "                        link=link_find.group(1)\n",
    "                    else:\n",
    "                        link='NaN'\n",
    "\n",
    "                else:\n",
    "                    abstract='NaN'\n",
    "                    link='NaN'\n",
    "            else:\n",
    "                abstract='NaN'\n",
    "                link='NaN'\n",
    "\n",
    "        else:\n",
    "            abstract='NaN'\n",
    "            link='NaN'\n",
    "\n",
    "\n",
    "\n",
    "\n",
    "\n",
    "        # if sampleId==11337728:\n",
    "        #     print(counter)\n",
    "        #     break\n",
    "        if len(funcEntity)!=0:\n",
    "            for items in funcEntity:\n",
    "                subitem=funcEntity[items][0]\n",
    "                # print(subitem)\n",
    "                # os.system(\"pause\")\n",
    "                prop_name=subitem['Name']               \n",
    "\n",
    "\n",
    "                if check_key_exist(subitem,'Decription'):\n",
    "                    if len(subitem['Decription'])==0:\n",
    "                        full_des='NaN'\n",
    "                    else: \n",
    "                        full_des=Check_and_extract(subitem, 'type','NaN')\n",
    "                else:\n",
    "                    full_des='NaN'\n",
    "\n",
    "\n",
    "\n",
    "                if check_key_exist(subitem,'Properties'):\n",
    "                    if len(subitem['Properties'])==0:\n",
    "                        prop_type='NaN'\n",
    "                    else: \n",
    "                        prop_type=Check_and_extract(subitem['Properties'], 'type','NaN')\n",
    "                else:\n",
    "                    prop_type='NaN'\n",
    "\n",
    "\n",
    "                if check_key_exist(subitem,'Functions'):\n",
    "                    if len(subitem['Functions'])==0:\n",
    "                        func_type='NaN'\n",
    "                        func_des='NaN'\n",
    "                    else:\n",
    "                        for fuc_item in subitem['Functions']:\n",
    "                            func_type=fuc_item['Type']                        \n",
    "                            func_des=Check_and_extract(fuc_item, 'FunctionDescription','NaN')   \n",
    "\n",
    "                            to_write=[sampleName,sampleId,items,prop_name,prop_type,\\\n",
    "                                      func_type,func_des,full_des,abstract,link]\n",
    "                            if len(output_table)>0:\n",
    "                                if output_table[-1]!=to_write:\n",
    "                                    output_table.append(to_write) \n",
    "                            else:\n",
    "                                output_table.append(to_write)\n",
    "\n",
    "\n",
    "\n",
    "                else:\n",
    "                    func_type='NaN'\n",
    "                    func_des='NaN'\n",
    "                    to_write=[sampleName,sampleId,items,prop_name,prop_type,\\\n",
    "                              func_type,func_des,full_des,abstract,link]\n",
    "                    if len(output_table)>0:\n",
    "                        if output_table[-1]!=to_write:\n",
    "                            output_table.append(to_write)\n",
    "                    else:\n",
    "                        output_table.append(to_write)\n",
    "\n",
    "\n",
    "        else:\n",
    "            to_write=[sampleName,sampleId,'NaN','NaN','NaN','NaN','NaN','NaN','NaN','NaN']\n",
    "            if len(output_table)>0:\n",
    "                if output_table[-1]!=to_write:\n",
    "                    output_table.append(to_write)\n",
    "            else:\n",
    "                output_table.append(to_write)\n",
    "        counter+=1\n",
    "except Exception as e: \n",
    "    print(counter)\n",
    "    print(e)\n",
    "    \n",
    "\n",
    "                \n"
   ]
  },
  {
   "cell_type": "code",
   "execution_count": 12,
   "id": "0f5bba1f-777e-4ca7-8f69-2386b88a3e29",
   "metadata": {},
   "outputs": [],
   "source": [
    "# output_table[10]"
   ]
  },
  {
   "cell_type": "code",
   "execution_count": 13,
   "id": "3cd96049-9f89-42fb-aa06-a4e223549624",
   "metadata": {},
   "outputs": [],
   "source": [
    "# for item in output_table:\n",
    "#     tracer='UNC-HKangPR2005-05'\n",
    "#     if tracer in item:\n",
    "#         print(item)"
   ]
  },
  {
   "cell_type": "code",
   "execution_count": 14,
   "id": "a11f28af-9880-4a35-ad60-3f369574bb83",
   "metadata": {},
   "outputs": [],
   "source": [
    "with open(output_path, 'w',newline=\"\") as output:\n",
    "    writer = csv.DictWriter(output, fieldnames = headers)\n",
    "    writer.writeheader()\n",
    "    writer = csv.writer(output)\n",
    "    writer.writerows(output_table)"
   ]
  }
 ],
 "metadata": {
  "kernelspec": {
   "display_name": "Python 3 (ipykernel)",
   "language": "python",
   "name": "python3"
  },
  "language_info": {
   "codemirror_mode": {
    "name": "ipython",
    "version": 3
   },
   "file_extension": ".py",
   "mimetype": "text/x-python",
   "name": "python",
   "nbconvert_exporter": "python",
   "pygments_lexer": "ipython3",
   "version": "3.9.12"
  }
 },
 "nbformat": 4,
 "nbformat_minor": 5
}
