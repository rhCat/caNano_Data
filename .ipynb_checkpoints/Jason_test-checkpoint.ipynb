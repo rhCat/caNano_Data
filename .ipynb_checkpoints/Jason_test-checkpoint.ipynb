{
 "cells": [
  {
   "cell_type": "markdown",
   "id": "657edd16-0be4-4091-9066-049cdd3a101d",
   "metadata": {},
   "source": [
    "# Extract data from caNano exported json file\n",
    "Rui He, 5/19/2022\n",
    "\n",
    "for my dear Weina"
   ]
  },
  {
   "cell_type": "code",
   "execution_count": 1,
   "id": "aed34195",
   "metadata": {},
   "outputs": [],
   "source": [
    "import json\n",
    "import os\n",
    "import math\n",
    "import csv\n",
    "\n",
    "data_path=os.path.abspath(\"caNanoLab_sample_data_1652929321540.json\")\n",
    "output_path=os.path.abspath(\"Output.csv\")\n",
    "data={}"
   ]
  },
  {
   "cell_type": "code",
   "execution_count": 2,
   "id": "8dcf9005",
   "metadata": {},
   "outputs": [],
   "source": [
    "with open(data_path, 'r',errors='ignore') as file:\n",
    "    data_temp = file.read()\n",
    "    data = json.loads(data_temp)\n"
   ]
  },
  {
   "cell_type": "code",
   "execution_count": 3,
   "id": "58990f50-ae77-4b44-a323-d863e2ec9967",
   "metadata": {},
   "outputs": [],
   "source": [
    "def deal_with_empty(data,inputlist):\n",
    "    if len(data)==0:\n",
    "        inputlist.append('NaN')\n",
    "    else:\n",
    "        tempfunc=[]\n",
    "        for item in data:\n",
    "            if len(item)==0:\n",
    "                tempfunc.append('NaN')\n",
    "            else:\n",
    "                tempfunc.append(item)\n",
    "        inputlist.append(tempfunc)\n",
    "    return inputlist\n",
    "    "
   ]
  },
  {
   "cell_type": "code",
   "execution_count": 4,
   "id": "0e9da132-cdcd-42ad-b3ba-9268aae6dde0",
   "metadata": {},
   "outputs": [],
   "source": [
    "def Convert_lst_dic(lst):\n",
    "    res_dct = {lst[i]: lst[i + 1] for i in range(0, len(lst)-1, 2)}\n",
    "    return res_dct"
   ]
  },
  {
   "cell_type": "code",
   "execution_count": 5,
   "id": "4bcac72f-9383-4d87-b0be-2f0ba6902c46",
   "metadata": {},
   "outputs": [],
   "source": [
    "nameid_list=[]\n",
    "samplename_list=[]\n",
    "funEntity_list=[]\n",
    "Function_type_list=[]\n",
    "Function_description_list=[]\n",
    "Full_description_list=[]"
   ]
  },
  {
   "cell_type": "code",
   "execution_count": 6,
   "id": "555410b2",
   "metadata": {
    "tags": []
   },
   "outputs": [],
   "source": [
    "for item in data:\n",
    "    \n",
    "\n",
    "    sampleId=item['sample']['GeneralInfo']['sampleId']\n",
    "        \n",
    "    sampleName=item['sample']['GeneralInfo']['sampleName']\n",
    "\n",
    "    funcEntity=item['sample']['Composition']['functionalizingentity']\n",
    "    # deal_with_empty(funcEntity,funEntity_list)\n",
    "    \n",
    "    temp_tyep=[]\n",
    "    temp_func_description=[]\n",
    "    if len(funcEntity)!=0:\n",
    "        for item in funcEntity:            \n",
    "            data_temp=funcEntity[item][0]\n",
    "            Function=data_temp['Functions']            \n",
    "            if len(Function)!=0:\n",
    "                data_temp_function=Function[0]   \n",
    "                \n",
    "                Function_type=data_temp_function['Type']            \n",
    "                \n",
    "                Function_description=data_temp_function['FunctionDescription']                             \n",
    "                                \n",
    "                samplename_list.append(sampleName)\n",
    "                nameid_list.append(sampleId)\n",
    "                funEntity_list.append(item)\n",
    "                Function_type_list.append(Function_type)\n",
    "                Function_description_list.append(Function_description)\n",
    "                \n",
    "            else:\n",
    "                samplename_list.append(sampleName)\n",
    "                nameid_list.append(sampleId)\n",
    "                funEntity_list.append(item)\n",
    "                Function_type_list.append('NaN')\n",
    "                Function_description_list.append('NaN')\n",
    "\n",
    "    else:\n",
    "        samplename_list.append(sampleName)\n",
    "        nameid_list.append(sampleId)\n",
    "        funEntity_list.append('NaN')\n",
    "        Function_type_list.append('NaN')\n",
    "        Function_description_list.append('NaN')\n",
    "        \n",
    "                \n"
   ]
  },
  {
   "cell_type": "code",
   "execution_count": 7,
   "id": "1ebff670-fc54-4ff9-b383-c6d1d9b4f937",
   "metadata": {},
   "outputs": [],
   "source": [
    "Grouped=[]\n",
    "\n",
    "for i in range(0,len(nameid_list)):\n",
    "    Grouped.append([nameid_list[i],samplename_list[i],funEntity_list[i],\\\n",
    "                    Function_type_list[i],Function_description_list[i]])"
   ]
  },
  {
   "cell_type": "code",
   "execution_count": 8,
   "id": "0f5bba1f-777e-4ca7-8f69-2386b88a3e29",
   "metadata": {},
   "outputs": [
    {
     "data": {
      "text/plain": [
       "[[106037277,\n",
       "  'Dartmouth_SToraya-BrownNanomedicine2014-01',\n",
       "  'NaN',\n",
       "  'NaN',\n",
       "  'NaN'],\n",
       " [106037261, 'WHU_CLiuACSChemBiol2020-02', 'anti-tumor', 'NaN', 'NaN'],\n",
       " [106037251, 'WHU_CLiuACSChemBiol2020-01', 'anti-tumor', 'NaN', 'NaN'],\n",
       " [88932368,\n",
       "  'UNMC_VanderbiltU-YWangACSAMI2020-16',\n",
       "  'biopolymer',\n",
       "  'targeting function',\n",
       "  ''],\n",
       " [88932367,\n",
       "  'UNMC_VanderbiltU-YWangACSAMI2020-15',\n",
       "  'biopolymer',\n",
       "  'targeting function',\n",
       "  ''],\n",
       " [88932356,\n",
       "  'UNMC_VanderbiltU-YWangACSAMI2020-14',\n",
       "  'small molecule',\n",
       "  'imaging function',\n",
       "  ''],\n",
       " [88932356,\n",
       "  'UNMC_VanderbiltU-YWangACSAMI2020-14',\n",
       "  'biopolymer',\n",
       "  'targeting function',\n",
       "  'interacts with av integrins and neuropilin-1 receptor; after binding to integrins, the peptide exposes the RXXK/R motif for neuropilin-1 (NRP-1) receptor, which induces further penetration into tumor area and cells'],\n",
       " [89784322,\n",
       "  'UNMC_VanderbiltU-YWangACSAMI2020-13',\n",
       "  'small molecule',\n",
       "  'imaging function',\n",
       "  ''],\n",
       " [89784322,\n",
       "  'UNMC_VanderbiltU-YWangACSAMI2020-13',\n",
       "  'biopolymer',\n",
       "  'targeting function',\n",
       "  'noncomplementary targeting'],\n",
       " [89784321,\n",
       "  'UNMC_VanderbiltU-YWangACSAMI2020-12',\n",
       "  'small molecule',\n",
       "  'imaging function',\n",
       "  '']]"
      ]
     },
     "execution_count": 8,
     "metadata": {},
     "output_type": "execute_result"
    }
   ],
   "source": [
    "Grouped[0:10]"
   ]
  },
  {
   "cell_type": "code",
   "execution_count": 15,
   "id": "a11f28af-9880-4a35-ad60-3f369574bb83",
   "metadata": {},
   "outputs": [],
   "source": [
    "with open(output_path, 'w',newline=\"\") as output:\n",
    "    writer = csv.writer(output, delimiter=',')\n",
    "    writer.writerows(Grouped)"
   ]
  },
  {
   "cell_type": "code",
   "execution_count": null,
   "id": "5c2a63f3-18e9-4940-9d4b-c5f86cb1c60a",
   "metadata": {},
   "outputs": [],
   "source": []
  }
 ],
 "metadata": {
  "kernelspec": {
   "display_name": "Python 3 (ipykernel)",
   "language": "python",
   "name": "python3"
  },
  "language_info": {
   "codemirror_mode": {
    "name": "ipython",
    "version": 3
   },
   "file_extension": ".py",
   "mimetype": "text/x-python",
   "name": "python",
   "nbconvert_exporter": "python",
   "pygments_lexer": "ipython3",
   "version": "3.9.12"
  }
 },
 "nbformat": 4,
 "nbformat_minor": 5
}
