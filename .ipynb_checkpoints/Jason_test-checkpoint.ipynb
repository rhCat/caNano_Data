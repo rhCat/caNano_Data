{
 "cells": [
  {
   "cell_type": "markdown",
   "id": "657edd16-0be4-4091-9066-049cdd3a101d",
   "metadata": {
    "tags": []
   },
   "source": [
    "# Extract data from caNano exported json file\n",
    "Rui He, 5/19/2022\n",
    "\n",
    "for my dear Weina Miao Miao"
   ]
  },
  {
   "cell_type": "code",
   "execution_count": 68,
   "id": "aed34195",
   "metadata": {
    "tags": []
   },
   "outputs": [],
   "source": [
    "import json\n",
    "import os\n",
    "import csv\n",
    "\n",
    "data_path=os.path.abspath(\"caNanoLab_sample_data_1652929321540.json\")\n",
    "output_path=os.path.abspath(\"Function_extract.csv\")\n",
    "data={}"
   ]
  },
  {
   "cell_type": "code",
   "execution_count": 69,
   "id": "8dcf9005",
   "metadata": {},
   "outputs": [],
   "source": [
    "with open(data_path, 'r',errors='ignore') as file:\n",
    "    data_temp = file.read()\n",
    "    data = json.loads(data_temp)\n"
   ]
  },
  {
   "cell_type": "code",
   "execution_count": 70,
   "id": "9b294ffe-4473-46cc-8c11-57613b37f25b",
   "metadata": {},
   "outputs": [],
   "source": [
    "def check_key_exist(dictionary, key):     \n",
    "    if dictionary.get(key) is not None:\n",
    "        return True\n",
    "    else:\n",
    "        return False"
   ]
  },
  {
   "cell_type": "code",
   "execution_count": 71,
   "id": "ed85eb20-5176-42c1-be52-8f5050a056df",
   "metadata": {},
   "outputs": [],
   "source": [
    "def Check_and_extract(dictionary,key,palceholder):\n",
    "    if dictionary.get(key) is not None:\n",
    "        targetvar=dictionary[key]\n",
    "    else:\n",
    "        targetvar=palceholder\n",
    "    return targetvar\n",
    "        "
   ]
  },
  {
   "cell_type": "code",
   "execution_count": 72,
   "id": "4bcac72f-9383-4d87-b0be-2f0ba6902c46",
   "metadata": {},
   "outputs": [],
   "source": [
    "headers=['samplename','nameid','function entity','property name', \\\n",
    "        'property type','function type','function description','full description']\n",
    "output_table=[]"
   ]
  },
  {
   "cell_type": "code",
   "execution_count": 83,
   "id": "555410b2",
   "metadata": {
    "tags": []
   },
   "outputs": [],
   "source": [
    "counter=1\n",
    "for item in data:\n",
    "    \n",
    "\n",
    "    sampleId=item['sample']['GeneralInfo']['sampleId']\n",
    "        \n",
    "    sampleName=item['sample']['GeneralInfo']['sampleName']\n",
    "\n",
    "    funcEntity=item['sample']['Composition']['functionalizingentity']\n",
    "    \n",
    "    # if sampleId==11337728:\n",
    "    #     print(counter)\n",
    "    #     break\n",
    "    if len(funcEntity)!=0:\n",
    "        for item in funcEntity:\n",
    "            for subitem in funcEntity[item]:\n",
    "                prop_name=subitem['Name']                \n",
    "                full_des=subitem['Desc']\n",
    "                \n",
    "                if check_key_exist(subitem,'Properties'):\n",
    "                    if len(subitem['Properties'])==0:\n",
    "                        prop_type='NaN'\n",
    "                    else: \n",
    "                        prop_type=Check_and_extract(subitem['Properties'], 'type','NaN')\n",
    "                else:\n",
    "                    prop_type='NaN'\n",
    "                \n",
    "                \n",
    "                if check_key_exist(subitem,'Functions'):\n",
    "                    if len(subitem['Functions'])==0:\n",
    "                        func_type='NaN'\n",
    "                        func_des='NaN'\n",
    "                    else:\n",
    "                        for fuc_item in subitem['Functions']:\n",
    "                            func_type=fuc_item['Type']                        \n",
    "                            func_des=Check_and_extract(fuc_item, 'FunctionDescription','NaN')   \n",
    "                            \n",
    "                            to_write=[sampleName,sampleId,item,prop_name,prop_type,func_type,func_des,full_des]\n",
    "                            if len(output_table)>0:\n",
    "                                if output_table[-1]!=to_write:\n",
    "                                    output_table.append(to_write) \n",
    "                            else:\n",
    "                                output_table.append(to_write)\n",
    "                            \n",
    "                else:\n",
    "                    func_type='NaN'\n",
    "                    func_des='NaN'\n",
    "                    to_write=[sampleName,sampleId,item,prop_name,prop_type,func_type,func_des,full_des]\n",
    "                    if len(output_table)>0:\n",
    "                        if output_table[-1]!=to_write:\n",
    "                            output_table.append(to_write)\n",
    "                    else:\n",
    "                        output_table.append(to_write)\n",
    "                \n",
    "    else:\n",
    "        to_write=[sampleName,sampleId,'NaN','NaN','NaN','NaN','NaN','NaN']\n",
    "        if len(output_table)>0:\n",
    "            if output_table[-1]!=to_write:\n",
    "                output_table.append(to_write)\n",
    "        else:\n",
    "            output_table.append(to_write)\n",
    "    counter+=1\n",
    "\n",
    "                \n"
   ]
  },
  {
   "cell_type": "code",
   "execution_count": 84,
   "id": "0f5bba1f-777e-4ca7-8f69-2386b88a3e29",
   "metadata": {},
   "outputs": [],
   "source": [
    "# output_table[10]"
   ]
  },
  {
   "cell_type": "code",
   "execution_count": 85,
   "id": "3cd96049-9f89-42fb-aa06-a4e223549624",
   "metadata": {},
   "outputs": [
    {
     "name": "stdout",
     "output_type": "stream",
     "text": [
      "['UNC-HKangPR2005-05', 11337730, 'small molecule', 'BODIPY', 'NaN', 'imaging function', 'Imaging dendrimer conjugates incubated in NIH 3T3 MDR cells', 'Fluorophore\\r\\n4.219 micromol\\r\\nPubChem CID 25058173']\n",
      "['UNC-HKangPR2005-05', 11337730, 'biopolymer', 'Tat', 'peptide', 'other', 'Transfection of dendrimer conjugates into NIH 3T3 MDR cells', 'Cell penetrating peptide and trans-activating transcriptional activator\\r\\nfrom Human Immunodeficiency Virus 1\\r\\nTat peptide with a cysteine residue at C terminus (NH2-RKKRRQRRRPPQGGC-COOH)\\r\\n13.30 micromol\\r\\nAverage number of peptides 15.9 ']\n",
      "['UNC-HKangPR2005-05', 11337730, 'biopolymer', 'Antisense Cy5-5995', 'DNA', 'targeting function', 'Targeting the AUG start codon of the MDR1 gene', \"Antisense 20 base pair phosphorothioate oligonucleotide with a sequence targeting AUG start codon of MDR1 gene and attached fluorophore\\r\\n5'-(Cy5)CCA TCC CGA CCT CGC GCT CC-3'\\r\\nG5.NH2 + BODIPY 20 microg/mL\"]\n",
      "['UNC-HKangPR2005-05', 11337730, 'biopolymer', 'Antisense Cy5-5995', 'DNA', 'imaging function', 'Imaging  dendrimer conjugates incubated in NIH 3T3 MDR cells', \"Antisense 20 base pair phosphorothioate oligonucleotide with a sequence targeting AUG start codon of MDR1 gene and attached fluorophore\\r\\n5'-(Cy5)CCA TCC CGA CCT CGC GCT CC-3'\\r\\nG5.NH2 + BODIPY 20 microg/mL\"]\n"
     ]
    }
   ],
   "source": [
    "for item in output_table:\n",
    "    tracer='UNC-HKangPR2005-05'\n",
    "    if tracer in item:\n",
    "        print(item)"
   ]
  },
  {
   "cell_type": "code",
   "execution_count": 86,
   "id": "a11f28af-9880-4a35-ad60-3f369574bb83",
   "metadata": {},
   "outputs": [],
   "source": [
    "with open(output_path, 'w',newline=\"\") as output:\n",
    "    writer = csv.DictWriter(output, fieldnames = headers)\n",
    "    writer.writeheader()\n",
    "    writer = csv.writer(output)\n",
    "    writer.writerows(output_table)"
   ]
  },
  {
   "cell_type": "code",
   "execution_count": null,
   "id": "c9be21a4-a9c9-47b5-9bf8-6bf6563ebad4",
   "metadata": {},
   "outputs": [],
   "source": []
  }
 ],
 "metadata": {
  "kernelspec": {
   "display_name": "Python 3 (ipykernel)",
   "language": "python",
   "name": "python3"
  },
  "language_info": {
   "codemirror_mode": {
    "name": "ipython",
    "version": 3
   },
   "file_extension": ".py",
   "mimetype": "text/x-python",
   "name": "python",
   "nbconvert_exporter": "python",
   "pygments_lexer": "ipython3",
   "version": "3.9.12"
  }
 },
 "nbformat": 4,
 "nbformat_minor": 5
}
