{
 "cells": [
  {
   "cell_type": "markdown",
   "id": "657edd16-0be4-4091-9066-049cdd3a101d",
   "metadata": {
    "tags": []
   },
   "source": [
    "# Extract data from caNano exported json file\n",
    "Rui He, 5/19/2022\n",
    "\n",
    "for my dear Weina Miao Miao"
   ]
  },
  {
   "cell_type": "code",
   "execution_count": 1,
   "id": "aed34195",
   "metadata": {
    "tags": []
   },
   "outputs": [],
   "source": [
    "import json\n",
    "import os\n",
    "import csv\n",
    "\n",
    "data_path=os.path.abspath(\"imaging_function.json\")\n",
    "output_path=os.path.abspath(\"imaging_Function_extract.csv\")\n",
    "data={}"
   ]
  }
 ],
 "metadata": {
  "kernelspec": {
   "display_name": "Python 3 (ipykernel)",
   "language": "python",
   "name": "python3"
  },
  "language_info": {
   "codemirror_mode": {
    "name": "ipython",
    "version": 3
   },
   "file_extension": ".py",
   "mimetype": "text/x-python",
   "name": "python",
   "nbconvert_exporter": "python",
   "pygments_lexer": "ipython3",
   "version": "3.9.12"
  }
 },
 "nbformat": 4,
 "nbformat_minor": 5
}
